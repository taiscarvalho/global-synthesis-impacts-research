{
 "cells": [
  {
   "cell_type": "code",
   "execution_count": null,
   "metadata": {},
   "outputs": [],
   "source": [
    "import os\n",
    "import time\n",
    "import json\n",
    "import pickle\n",
    "import ast\n",
    "import re\n",
    "\n",
    "import numpy as np\n",
    "import pandas as pd\n",
    "import geopandas as gpd\n",
    "import matplotlib.pyplot as plt\n",
    "from matplotlib.colors import LogNorm\n",
    "\n",
    "import joblib\n",
    "import openai\n",
    "import country_converter as coco\n",
    "import pycountry_convert as pc\n",
    "\n",
    "from itertools import chain\n",
    "from copy import deepcopy"
   ]
  },
  {
   "cell_type": "code",
   "execution_count": null,
   "metadata": {},
   "outputs": [],
   "source": [
    "# Set your API key\n",
    "openai.api_key = \"\""
   ]
  },
  {
   "cell_type": "code",
   "execution_count": null,
   "metadata": {},
   "outputs": [],
   "source": [
    "# Load data\n",
    "df_labelled = pd.read_csv(\"validation_data/labelled_data.csv\")\n",
    "df_predictions = pd.read_csv(\"final_dataset/pred_df.csv\")\n",
    "df_unlabelled = df_predictions[df_predictions['pred_label'] == 1].reset_index(drop=True)"
   ]
  },
  {
   "cell_type": "markdown",
   "metadata": {},
   "source": [
    "Function to find the hazard type based on keywords"
   ]
  },
  {
   "cell_type": "code",
   "execution_count": null,
   "metadata": {},
   "outputs": [],
   "source": [
    "def check_hazard_type_keyword(text):\n",
    "    \n",
    "    events = []\n",
    "\n",
    "    if re.search(r\"drought.*|dry spell.*\", text, re.IGNORECASE):\n",
    "        events.append('Drought')\n",
    "    if re.search(r\"flood.*|inundation.*|glacial lake outburst.*\", text, re.IGNORECASE):\n",
    "        events.append('Flood')\n",
    "    if re.search(r\"storm.*|superstorm.*|windstorm.*|snowstorm.*|blizzard.*|derecho.*|winterstorm.*|hail.*|extra tropical storm.*|thunderstorm.*|tornado.*|tropical cyclone.*|storm surge.*|hurricane.*|typhoon.*\", text, re.IGNORECASE):\n",
    "        events.append('Storm')\n",
    "    if re.search(r\"heat wave.*|heatwave.*|heat episode.*|((heat|hot) spell).*|heat stress.*\", text, re.IGNORECASE):\n",
    "        events.append('Heatwave')\n",
    "    if re.search(r\"cold wave.*|coldwave.*|severe winter conditions.*|cold spell.*\", text, re.IGNORECASE):\n",
    "        events.append('Coldwave')\n",
    "    if re.search(r\"land slide.*|landslide.*|rockfall.*|mudslide.*|mass movement.*\", text, re.IGNORECASE):\n",
    "        events.append('Mass movement')\n",
    "    if re.search(r\"fire.*|forestfire.*|wildfire.*|landfire.*|bushfire.*|forest fire.*|wild fire.*|land fire.*|bush fire.*\", text, re.IGNORECASE):\n",
    "        events.append('Wildfire')\n",
    "        \n",
    "    return events"
   ]
  },
  {
   "cell_type": "markdown",
   "metadata": {},
   "source": [
    "Prompts to extract hazard information"
   ]
  },
  {
   "cell_type": "code",
   "execution_count": 6,
   "metadata": {},
   "outputs": [],
   "source": [
    "def investigates_specific_events(text):\n",
    "    prompt = f\"\"\"\n",
    "    Context information is below.\n",
    "    ---\n",
    "    {text}\n",
    "    ---\n",
    "    Using only information from the text above, answer the query.\n",
    "    Query: Does the text refer to a study that addresses one or more climate hazard events (i.e. it investigates the consequences of one or more events that happened in specific dates and locations)?\n",
    "    Answer with 1 or 0. If yes, answer 1. If not, answer 0. Answer with either 1 or 0 and do not add extra text or notes.\n",
    "    \"\"\"\n",
    "    return prompt"
   ]
  },
  {
   "cell_type": "code",
   "execution_count": 14,
   "metadata": {},
   "outputs": [],
   "source": [
    "global example_range\n",
    "example_range =     \"\"\"{\n",
    "      \"startYear\": 2002,\n",
    "      \"startMonth\": 1,\n",
    "      \"startDay\": 1,\n",
    "      \"endYear\": 2015,\n",
    "      \"endMonth\": 12,\n",
    "      \"endDay\": 31,\n",
    "      \"hazardName\": \"\",\n",
    "      \"country\": \"Brazil\",\n",
    "      \"region\": \"\",\n",
    "      \"state\": \"\",\n",
    "      \"city\": \"\",\n",
    "      \"otherLocation\": \"\"\n",
    "    }\"\"\""
   ]
  },
  {
   "cell_type": "code",
   "execution_count": 15,
   "metadata": {},
   "outputs": [],
   "source": [
    "def get_info_range(text, hazard):\n",
    "    prompt = f\"\"\"\n",
    "    Context information is below.\n",
    "    ---\n",
    "    {text}\n",
    "    ---\n",
    "    Using only information from the text above, please answer the query.\n",
    "    Query: Considering that the text refers to an article that investigates a {hazard} across a specific time range, describe the study area and time range. \n",
    "    The study area should be described with country, region, state, city, lake, river, water basin or other location mentioned in the text. \n",
    "    The range for which the investigation was performed includes start Year (numeric), start Month (numeric), and start Day (numeric), end Year (numeric), end Month (numeric), and end Day (numeric)).\n",
    "    Provide the answer in JSON format. \n",
    "    If information is missing, leave it empty. Do not add notes or extra text.\n",
    "    Here is an example of how the structure of the JSON must be:\n",
    "    {str(example_range)}\n",
    "    \"\"\"\n",
    "    return prompt"
   ]
  },
  {
   "cell_type": "code",
   "execution_count": 17,
   "metadata": {},
   "outputs": [],
   "source": [
    "def check_event_occurrence(text, hazard_type):\n",
    "    prompt = f\"\"\"\n",
    "    Context information is below.\n",
    "    ---\n",
    "    {text}\n",
    "    ---\n",
    "    Using only information from the text above and no previous knowledge, please answer the query.\n",
    "    Query: Did a {hazard_type} event happened in the are investigated in the study?\n",
    "    Answer with 1 or 0. If yes, answer 1. If not, answer 0. Answer with either 1 or 0 and do not add extra text or notes.\n",
    "    \"\"\"\n",
    "    return prompt"
   ]
  },
  {
   "cell_type": "code",
   "execution_count": 18,
   "metadata": {},
   "outputs": [],
   "source": [
    "global example_location\n",
    "example_location =     \"\"\" {\"hazardLocation\": [\n",
    "    {\n",
    "      \"country\": \"Brazil\",\n",
    "      \"region\": \"\",\n",
    "      \"state\": \"Ceará\",\n",
    "      \"city\": \"Fortaleza, Bela Cruz\",\n",
    "      \"locationAnnotation\": \"\"\n",
    "     },\n",
    "    {\n",
    "      \"country\": \"United States\",\n",
    "      \"region\": \"\",\n",
    "      \"state\": \"California, Arizona\",\n",
    "      \"city\": \"\",\n",
    "      \"locationAnnotation\": \"\"\n",
    "     },\n",
    "     {\n",
    "      \"country\": \"Colombia\",\n",
    "      \"region\": \"\",\n",
    "      \"state\": \"\",\n",
    "      \"city\": \"\",\n",
    "      \"locationAnnotation\": \"\"\n",
    "     }\n",
    "     ]\n",
    "     }\n",
    "    \"\"\"\n",
    "\n",
    "def get_event_location(text, hazard_type):\n",
    "    prompt = f\"\"\"\n",
    "    Context information is below.\n",
    "    ---\n",
    "    {text}\n",
    "    ---\n",
    "    Using only information from the text above and no previous knowledge, please answer the query.\n",
    "    Query: Where happened the {hazard_type} event investigated in the study?\n",
    "    For each unique country where the event occurred, extract, if possible:\n",
    "    \"country\": Country affected by the {hazard_type} event, mandatory field\n",
    "    \"region\": Regions within the country affected by the {hazard_type} event\n",
    "    \"state\": States within the country affected by the {hazard_type} event\n",
    "    \"state\": Cities within the country affected by the {hazard_type} event\n",
    "    \"locationAnnotation\": Provide the text excerpt from where you extracted the location information.\n",
    "    If any of these information is missing from the text, leave the item empty. Do not add notes or extra text.\n",
    "    Provide the answer in JSON format.\n",
    "    Here is an example of how the structure of the JSON must be:\n",
    "    {str(example_location)}\n",
    "    \"\"\"\n",
    "    return prompt"
   ]
  },
  {
   "cell_type": "code",
   "execution_count": null,
   "metadata": {},
   "outputs": [],
   "source": [
    "global example_date\n",
    "example_date =     \"\"\"{\"hazardDate\": [\n",
    "    {\n",
    "      \"startYear\": \"2017\",\n",
    "      \"startMonth\": \"8\",\n",
    "      \"startDay\": \"30\",\n",
    "      \"endYear\": \"2017\",\n",
    "      \"endMonth\": \"9\",\n",
    "      \"endDay\": \"13\",\n",
    "      \"hazardName\": \"Hurricane Irma\"\n",
    "     },\n",
    "     {\n",
    "      \"startYear\": \"2017\",\n",
    "      \"startMonth\": \"9\",\n",
    "      \"startDay\": \"16\",\n",
    "      \"endYear\": \"2017\",\n",
    "      \"endMonth\": \"9\",\n",
    "      \"endDay\": \"30\",\n",
    "      \"hazardName\": \"Hurricane Maria\"\n",
    "     }\n",
    "     ]\n",
    "     }\n",
    "    \"\"\""
   ]
  },
  {
   "cell_type": "code",
   "execution_count": null,
   "metadata": {},
   "outputs": [],
   "source": [
    "def get_event_date(text, hazard_type, hazard_location):\n",
    "    prompt = f\"\"\"\n",
    "    Context information is below.\n",
    "    ---\n",
    "    {text}\n",
    "    ---\n",
    "    Using only information from the text above and no previous knowledge, please answer the query.\n",
    "    Query: When did the {hazard_type} event that affected {hazard_location} investigated in the study happened?\n",
    "    The date in which the hazard happened should be described by: \n",
    "    \"startYear\": starting year, four numeric values \"YYYY\",\n",
    "    \"startMonth\": starting month, one or two numeric values \"MM\",\n",
    "    \"startDay\": starting day, one or two numeric values \"DD\",\n",
    "    \"endYear\": ending year, four numeric values \"YYYY\",\n",
    "    \"endMonth\": ending month, one or two numeric values \"MM\",\n",
    "    \"endDay\": ending day, one or two numeric values \"DD\",\n",
    "    \"hazardName\": If the hazard received a special name, such as \"Hurricane Harvey\" or \"Storm Sandy\", add it here, enclosed by double quotes\n",
    "    If end year, end month, and end day are not mentioned in the text, repeat the values for start year, start month, and start day.\n",
    "    Provide the answer in JSON format.\n",
    "    If information is missing, leave it empty. Do not add notes or extra text.\n",
    "    Here is an example of how the structure of the JSON must be:\n",
    "    {str(example_date)}\n",
    "    \"\"\"\n",
    "    return prompt"
   ]
  },
  {
   "cell_type": "markdown",
   "metadata": {},
   "source": [
    "Functions to process LLM response"
   ]
  },
  {
   "cell_type": "code",
   "execution_count": 20,
   "metadata": {},
   "outputs": [],
   "source": [
    "def extract_outer_json(text):\n",
    "    start_index = text.find('{')\n",
    "    end_index = text.rfind('}')\n",
    "\n",
    "    if start_index == -1 or end_index == -1 or start_index >= end_index:\n",
    "        return None  # Return None for empty JSON or invalid format\n",
    "\n",
    "    extracted_json = text[start_index:end_index + 1]\n",
    "    return extracted_json"
   ]
  },
  {
   "cell_type": "code",
   "execution_count": null,
   "metadata": {},
   "outputs": [],
   "source": [
    "def run_llm(prompt, model_id=\"gpt-4o\"):\n",
    "    try:\n",
    "\n",
    "        response = openai.ChatCompletion.create(\n",
    "            model=model_id,  # or \"gpt-4\" if you have access\n",
    "            messages=[\n",
    "            #{\"role\": \"system\", \"content\": \"You are a helpful assistant.\"},\n",
    "            {\"role\": \"user\", \"content\": prompt}\n",
    "            ]\n",
    "        )\n",
    "\n",
    "        # Check if the expected keys are in the parsed data\n",
    "        if \"choices\" in response and response[\"choices\"] and \"message\" in response[\"choices\"][0]:\n",
    "            return response[\"choices\"][0][\"message\"][\"content\"].strip()\n",
    "        else:\n",
    "            print(\"Error: Unexpected JSON structure\")\n",
    "            print(\"Parsed data:\", response)\n",
    "            return None\n",
    "\n",
    "    except Exception as e:\n",
    "        print(f\"An error occurred: {e}\")\n",
    "        return None"
   ]
  },
  {
   "cell_type": "code",
   "execution_count": 23,
   "metadata": {},
   "outputs": [],
   "source": [
    "def add_key_value_pairs(data, new_pairs):\n",
    "    \"\"\"\n",
    "    Adds new key-value pairs to each dictionary in a list of dictionaries.\n",
    "\n",
    "    Parameters:\n",
    "    data (list): A list of dictionaries.\n",
    "    new_pairs (list or dict): A dictionary or list of dictionaries containing key-value pairs to be added.\n",
    "\n",
    "    Returns:\n",
    "    list: A list of dictionaries with the new key-value pairs added.\n",
    "    \"\"\"\n",
    "    if isinstance(new_pairs, dict):\n",
    "        # If new_pairs is a dictionary, add its key-value pairs to each dictionary in data\n",
    "        for entry in data:\n",
    "            for key, value in new_pairs.items():\n",
    "                entry[key] = value\n",
    "    elif isinstance(new_pairs, list):\n",
    "        # If new_pairs is a list, add the corresponding dictionary's key-value pairs to the corresponding dictionary in data\n",
    "        for entry, new_pair in zip(data, new_pairs):\n",
    "            if isinstance(new_pair, dict):\n",
    "                for key, value in new_pair.items():\n",
    "                    entry[key] = value\n",
    "    else:\n",
    "        raise TypeError(\"new_pairs must be a dictionary or a list of dictionaries\")\n",
    "    \n",
    "    return data"
   ]
  },
  {
   "cell_type": "markdown",
   "metadata": {},
   "source": [
    "Run LLM and get information about the events from title and abstract"
   ]
  },
  {
   "cell_type": "code",
   "execution_count": 24,
   "metadata": {},
   "outputs": [],
   "source": [
    "results = []\n",
    "response = []"
   ]
  },
  {
   "cell_type": "code",
   "execution_count": null,
   "metadata": {},
   "outputs": [],
   "source": [
    "# Identify location\n",
    "def process_location(response, text, specific_event, reference_info, hazard, location, model_id):\n",
    "    try:\n",
    "        location_country = location[\"country\"]\n",
    "        print(f\"Location: {location_country}\")\n",
    "    except Exception as e:\n",
    "        print(f\"An unexpected error occurred: {e}\")\n",
    "        return\n",
    "\n",
    "    if not location[\"country\"]:\n",
    "        print(f\"Country not specified: {location}\")\n",
    "        return\n",
    "\n",
    "    prompt = get_event_date(text, hazard, location_country)\n",
    "    result = run_llm(prompt, model_id)\n",
    "    result_json = extract_outer_json(result)\n",
    "\n",
    "    try:\n",
    "        answer_date = json.loads(result_json.replace(\"\\n\", \"\"))[\"hazardDate\"]\n",
    "    except Exception as e:\n",
    "        print(f\"An unexpected error occurred: {e}\")\n",
    "        return\n",
    "\n",
    "    if not answer_date:\n",
    "        print(f\"JSON is empty: {result_json}\")\n",
    "        return\n",
    "\n",
    "    data = add_key_value_pairs([{\"hazardType\": hazard, \"specificEvent\": specific_event}], location)\n",
    "    updated_data = deepcopy(add_key_value_pairs(data, answer_date))\n",
    "    updated_data = deepcopy(add_key_value_pairs(updated_data, reference_info))\n",
    "\n",
    "    response.append(deepcopy(updated_data))"
   ]
  },
  {
   "cell_type": "code",
   "execution_count": null,
   "metadata": {},
   "outputs": [],
   "source": [
    "# Check if paper refers to a specific event in time in a given location\n",
    "def process_specific_event(response, text, specific_event, reference_info, model_id):\n",
    "    hazard_types = check_hazard_type_keyword(text)\n",
    "\n",
    "    for hazard in hazard_types:\n",
    "        print(f\"Hazard: {hazard}\")\n",
    "        prompt = get_event_location(text, hazard)\n",
    "        result = run_llm(prompt, model_id)\n",
    "        result_json = extract_outer_json(result)\n",
    "\n",
    "        try:\n",
    "            answer_location = json.loads(result_json.replace(\"\\n\", \"\"))[\"hazardLocation\"]\n",
    "        except Exception as e:\n",
    "            print(f\"An unexpected error occurred: {e}\")\n",
    "            return\n",
    "\n",
    "        if not answer_location:\n",
    "            print(f\"JSON is empty: {result_json}\")\n",
    "            return\n",
    "\n",
    "        for location in answer_location:\n",
    "            process_location(response, text, specific_event, reference_info, hazard, location, model_id)\n",
    "\n",
    "def process_non_specific_event(response, text, specific_event, reference_info, model_id):\n",
    "    hazard_types = check_hazard_type_keyword(text)\n",
    "\n",
    "    for hazard in hazard_types:\n",
    "        prompt = get_info_range(text, hazard)\n",
    "        result = run_llm(prompt, model_id)\n",
    "        result_json = extract_outer_json(result)\n",
    "\n",
    "        try:\n",
    "            answer_parts = json.loads(result_json.replace(\"\\n\", \"\"))\n",
    "        except (json.JSONDecodeError, Exception) as e:\n",
    "            print(f\"An unexpected error occurred: {e}\")\n",
    "            print(f\"Here is the result json: {result_json}\")\n",
    "            return\n",
    "\n",
    "        if not answer_parts:\n",
    "            print(f\"JSON is empty: {result_json}\")\n",
    "            return\n",
    "\n",
    "        print(f\"Info: {answer_parts}\")\n",
    "        data_range = add_key_value_pairs([{\"hazardType\": hazard, \"specificEvent\": specific_event}], answer_parts)\n",
    "        updated_data_range = add_key_value_pairs(data_range, reference_info)\n",
    "\n",
    "        response.append(updated_data_range)"
   ]
  },
  {
   "cell_type": "code",
   "execution_count": null,
   "metadata": {},
   "outputs": [],
   "source": [
    "def get_event_information(df_labelled, model_id=0, checkpoint_file=\"checkpoint.pkl\"):\n",
    "    # Load previous progress if available\n",
    "    try:\n",
    "        response = joblib.load(checkpoint_file)\n",
    "        print(f\"Loaded checkpoint from {checkpoint_file}\")\n",
    "    except (FileNotFoundError, EOFError):\n",
    "        response = []\n",
    "\n",
    "    processed_titles = {r['title'] for r in response}  # Titles already processed\n",
    "\n",
    "    for id, df in df_labelled.groupby(\"title\"):\n",
    "        title = df[\"title\"].iloc[0]\n",
    "\n",
    "        if title in processed_titles:\n",
    "            print(f\"Skipping already processed title: {title}\")\n",
    "            continue\n",
    "\n",
    "        abstract = df[\"abstract\"].iloc[0]\n",
    "        text = title + \" \" + abstract\n",
    "        journal = df[\"journal\"].values[0]\n",
    "        doi = df[\"doi\"].values[0]\n",
    "        pmid = df[\"pmid\"].values[0]\n",
    "        source = df[\"source\"].values[0]\n",
    "        year = df[\"year\"].values[0]\n",
    "\n",
    "        reference_info = {\n",
    "            \"doi\": doi,\n",
    "            \"pmid\": pmid,\n",
    "            \"source\": source,\n",
    "            \"journal\": journal,\n",
    "            \"year\": year,\n",
    "            \"title\": title,\n",
    "            \"abstract\": abstract\n",
    "        }\n",
    "\n",
    "        print(f\"Processing title: {title}\")\n",
    "\n",
    "        prompt = investigates_specific_events(text)\n",
    "        result = run_llm(prompt, model_id)\n",
    "        specific_event = int(''.join(re.findall(\"[01]\", result)))\n",
    "\n",
    "        print(f\"Specific event: {result}\")\n",
    "\n",
    "        if specific_event == 1:\n",
    "            process_specific_event(response, text, specific_event, reference_info, model_id)\n",
    "        else:\n",
    "            print(\"Not a specific event\")\n",
    "            process_non_specific_event(response, text, specific_event, reference_info, model_id)\n",
    "\n",
    "        # Save intermediate results\n",
    "        joblib.dump(response, checkpoint_file)\n",
    "        print(f\"Saved checkpoint to {checkpoint_file}\")\n",
    "\n",
    "    response_unnested = list(chain(*response))\n",
    "    response_df = pd.DataFrame(response_unnested)\n",
    "    return response, response_df"
   ]
  },
  {
   "cell_type": "code",
   "execution_count": null,
   "metadata": {},
   "outputs": [],
   "source": [
    "chunk_size = 50\n",
    "\n",
    "# Create empty lists to store responses and response_dfs\n",
    "all_responses = []\n",
    "all_response_dfs = []\n",
    "\n",
    "# Iterate over the DataFrame in chunks\n",
    "for i in range(0, len(df_unlabelled), chunk_size):\n",
    "    print(\"Chunk:\")\n",
    "    print(i)\n",
    "    \n",
    "    # Select the chunk\n",
    "    chunk = df_unlabelled.iloc[i:i+chunk_size]\n",
    "    \n",
    "    # Apply the function to the chunk\n",
    "    response, response_df = get_event_information(chunk, model_id=\"gpt-4o\")\n",
    "    \n",
    "    # Append the results to the lists\n",
    "    all_responses.append(response)\n",
    "    all_response_dfs.append(response_df)\n",
    "    \n",
    "    print(\"Sleeping for 1 minute\")\n",
    "    time.sleep(10)"
   ]
  },
  {
   "cell_type": "code",
   "execution_count": null,
   "metadata": {},
   "outputs": [],
   "source": [
    "response_df = pd.concat(all_response_dfs, ignore_index=True)"
   ]
  },
  {
   "cell_type": "code",
   "execution_count": null,
   "metadata": {},
   "outputs": [],
   "source": [
    "response_df.to_csv(\"final_dataset/response_df_unlabelled_llm.csv\", index=False)"
   ]
  },
  {
   "cell_type": "markdown",
   "metadata": {},
   "source": [
    "Postprocessing"
   ]
  },
  {
   "cell_type": "markdown",
   "metadata": {},
   "source": [
    "First, make sure that each country is considered as a separate entry"
   ]
  },
  {
   "cell_type": "code",
   "execution_count": 44,
   "metadata": {},
   "outputs": [],
   "source": [
    "response_df_exploded = response_df.assign(country_split = response_df.country.str.split(',')).explode(\"country_split\")\n",
    "response_df_exploded = response_df_exploded.drop(columns=\"country\").rename(columns={\"country_split\": \"country\"})"
   ]
  },
  {
   "cell_type": "markdown",
   "metadata": {},
   "source": [
    "Trim whitespaces"
   ]
  },
  {
   "cell_type": "code",
   "execution_count": 45,
   "metadata": {},
   "outputs": [],
   "source": [
    "response_df_exploded[\"country\"] = [str(country).strip() for country in response_df_exploded[\"country\"]]"
   ]
  },
  {
   "cell_type": "markdown",
   "metadata": {},
   "source": [
    "Add ISO codes for countries"
   ]
  },
  {
   "cell_type": "code",
   "execution_count": 47,
   "metadata": {},
   "outputs": [],
   "source": [
    "def add_country_codes(response_df):\n",
    "    cc = coco.CountryConverter()\n",
    "    response_df[\"country\"] = response_df[\"country\"].astype(str).str.strip('[]')\n",
    "    response_df[\"country\"] = response_df[\"country\"].astype(str).str.replace('\"', \"\")\n",
    "    iso3_codes = cc.pandas_convert(series=response_df[\"country\"], to='ISO3')\n",
    "    response_df[\"countryCode\"] = iso3_codes\n",
    "    response_df[\"countryCode\"] = [np.nan if code == \"not found\" else code for code in response_df[\"countryCode\"]]\n",
    "    response_df[\"countryCode\"] = response_df[\"countryCode\"].astype(str).str.strip('[]')\n",
    "    response_df[\"countryCode\"] = response_df[\"countryCode\"].astype(str).str.replace(\"'\", \"\")\n",
    "    return(response_df)"
   ]
  },
  {
   "cell_type": "code",
   "execution_count": null,
   "metadata": {},
   "outputs": [],
   "source": [
    "response_df_cc = add_country_codes(response_df_exploded)"
   ]
  },
  {
   "cell_type": "markdown",
   "metadata": {},
   "source": [
    "If a ISO code was not found, it is likelly that it is not a country"
   ]
  },
  {
   "cell_type": "code",
   "execution_count": null,
   "metadata": {},
   "outputs": [],
   "source": [
    "response_df_cc['countryCode'].replace('', np.nan, inplace=True)\n",
    "response_df_cc.dropna(subset = ['countryCode'], inplace=True)"
   ]
  },
  {
   "cell_type": "markdown",
   "metadata": {},
   "source": [
    "Check if the country is repeated for the same hazard and paper"
   ]
  },
  {
   "cell_type": "code",
   "execution_count": 50,
   "metadata": {},
   "outputs": [],
   "source": [
    "# Assuming df is your DataFrame\n",
    "group_columns = ['hazardType', 'startYear', 'doi', 'country']\n",
    "join_columns = ['region', 'state', 'city']\n",
    "first_columns = [col for col in response_df_cc.columns if col not in group_columns + join_columns]\n",
    "\n",
    "# Define a custom aggregation function\n",
    "def join_strings(series):\n",
    "    return ', '.join(series.dropna().unique())\n",
    "\n",
    "# Group by the required columns and aggregate\n",
    "result_df = response_df_cc.groupby(group_columns).agg({**{col: join_strings for col in join_columns},\n",
    "                                           **{col: 'first' for col in first_columns}}).reset_index()"
   ]
  },
  {
   "cell_type": "code",
   "execution_count": null,
   "metadata": {},
   "outputs": [],
   "source": [
    "result_df.to_csv(\"final_dataset/response_df_unlabelled_processed.csv\", index=False)"
   ]
  },
  {
   "cell_type": "markdown",
   "metadata": {},
   "source": [
    "Validation"
   ]
  },
  {
   "cell_type": "code",
   "execution_count": null,
   "metadata": {},
   "outputs": [],
   "source": [
    "df_labelled_event = pd.read_csv(\"data/labelled_data_hazard_description.csv\")\n",
    "df_labelled_event.rename(columns={'hazard': 'hazardType', 'paper_title': 'title', 'other_location': 'otherLocation', 'iso_3166_code': 'countryCode'}, inplace=True)\n",
    "df_labelled_subset = df_labelled_event[[\"doi\", \"journal\", \"year\", \"title\", \"abstract\", \"hazardType\", \"country\", \"countryCode\", \"state\", \"city\", \"region\", \"otherLocation\", \"startYear\", \"startMonth\", \"startDay\", \"endYear\", \"endMonth\", \"endDay\"]]"
   ]
  },
  {
   "cell_type": "code",
   "execution_count": null,
   "metadata": {},
   "outputs": [],
   "source": [
    "def calculate_precision(df1, df2, precision_columns_list):\n",
    "    # Replace \"nan\" with empty string in df2 for specified columns\n",
    "    for column in precision_columns_list:\n",
    "        df2[column] = [\"\" if str(value) == \"nan\" else value for value in df2[column]]\n",
    "\n",
    "    # Initialize results dictionary\n",
    "    results = {col: {\"psum\": 0, \"count\": 0} for col in precision_columns_list}\n",
    "\n",
    "    # Group by 'doi' and calculate precision for each column\n",
    "    for id, df in df1.groupby(\"doi\"):\n",
    "        tmp = df2[df2[\"doi\"] == id].reset_index(drop=True)\n",
    "        print(\"result:\")\n",
    "        print(tmp[\"city\"])\n",
    "        tmp2 = df.reset_index(drop=True)\n",
    "        print(\"labelled:\")\n",
    "        print(tmp2[\"city\"])\n",
    "        \n",
    "        if tmp.shape[0] == tmp2.shape[0]:\n",
    "            for precision_column in precision_columns_list:\n",
    "                precision_matches = (sorted(tmp[precision_column]) == sorted(tmp2[precision_column]))\n",
    "                if precision_matches:\n",
    "                    results[precision_column][\"psum\"] += 1\n",
    "                results[precision_column][\"count\"] += 1\n",
    "\n",
    "    # Calculate precision and create a DataFrame\n",
    "    precision_values = []\n",
    "    for precision_column in precision_columns_list:\n",
    "        if results[precision_column][\"count\"] > 0:\n",
    "            precision = results[precision_column][\"psum\"] / results[precision_column][\"count\"]\n",
    "        else:\n",
    "            precision = float('nan')  # Handle case where there is no data to calculate precision\n",
    "        precision_values.append(precision)\n",
    "    precision_df = pd.DataFrame([precision_values], columns=precision_columns_list)\n",
    "    return precision_df"
   ]
  },
  {
   "cell_type": "code",
   "execution_count": null,
   "metadata": {},
   "outputs": [],
   "source": [
    "precision_columns_list = [\"hazardType\", \"country\", \"city\", \"state\", \"region\", \"countryCode\", \"startYear\", \"endYear\"]\n",
    "precision_df = calculate_precision(df_labelled_subset, result_df, precision_columns_list)"
   ]
  },
  {
   "cell_type": "markdown",
   "metadata": {},
   "source": [
    "Plot world map"
   ]
  },
  {
   "cell_type": "code",
   "execution_count": null,
   "metadata": {},
   "outputs": [
    {
     "name": "stderr",
     "output_type": "stream",
     "text": [
      "/var/folders/y0/v_28nz_97f19tbld9j3_xhxm0000gn/T/ipykernel_984/2187900937.py:14: FutureWarning: The geopandas.dataset module is deprecated and will be removed in GeoPandas 1.0. You can get the original 'naturalearth_lowres' data from https://www.naturalearthdata.com/downloads/110m-cultural-vectors/.\n",
      "  world = gpd.read_file(gpd.datasets.get_path('naturalearth_lowres'))\n"
     ]
    },
    {
     "data": {
      "image/png": "[encoded data removed]",
      "text/plain": [
       "<Figure size 1500x1000 with 2 Axes>"
      ]
     },
     "metadata": {},
     "output_type": "display_data"
    }
   ],
   "source": [
    "df = result_df.copy()\n",
    "\n",
    "# Aggregate data to count occurrences per country code\n",
    "country_counts = df['countryCode'].value_counts().reset_index()\n",
    "country_counts.columns = ['countryCode', 'count']\n",
    "\n",
    "# Load the world map\n",
    "world = gpd.read_file(gpd.datasets.get_path('naturalearth_lowres'))\n",
    "\n",
    "# Merge the country counts with the world map using country codes (ISO_A3)\n",
    "world = world.merge(country_counts, how='left', left_on='iso_a3', right_on='countryCode')\n",
    "\n",
    "# Fill NaN values with 0 (indicating no occurrences)\n",
    "world['count'] = world['count'].fillna(0)\n",
    "\n",
    "# Plotting\n",
    "fig, ax = plt.subplots(1, 1, figsize=(15, 10))\n",
    "\n",
    "# Plot the world boundaries with white edges\n",
    "world.boundary.plot(ax=ax, color='white', linewidth=0.5)\n",
    "\n",
    "# Plot the filled countries with the count of occurrences, using a logarithmic color scale\n",
    "world.plot(column='count', ax=ax, legend=True, cmap='OrRd',\n",
    "           edgecolor='white', missing_kwds={'color': 'lightgrey'},\n",
    "           norm=LogNorm(vmin=1, vmax=world['count'].max()),  # Log scale\n",
    "           legend_kwds={'label': \"\",\n",
    "                        'orientation': \"vertical\"})\n",
    "\n",
    "# Set the title\n",
    "plt.title('Distribution of hazard occurrences')\n",
    "plt.show()"
   ]
  }
 ],
 "metadata": {
  "kernelspec": {
   "display_name": "newvenv",
   "language": "python",
   "name": "python3"
  },
  "language_info": {
   "codemirror_mode": {
    "name": "ipython",
    "version": 3
   },
   "file_extension": ".py",
   "mimetype": "text/x-python",
   "name": "python",
   "nbconvert_exporter": "python",
   "pygments_lexer": "ipython3",
   "version": "3.12.5"
  }
 },
 "nbformat": 4,
 "nbformat_minor": 2
}
